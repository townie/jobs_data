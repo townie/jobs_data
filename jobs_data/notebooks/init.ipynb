{
 "cells": [
  {
   "cell_type": "code",
   "execution_count": 1,
   "metadata": {
    "collapsed": false,
    "deletable": true,
    "editable": true
   },
   "outputs": [
    {
     "ename": "ImportError",
     "evalue": "No module named 'spacy'",
     "output_type": "error",
     "traceback": [
      "\u001b[0;31m---------------------------------------------------------------------------\u001b[0m",
      "\u001b[0;31mImportError\u001b[0m                               Traceback (most recent call last)",
      "\u001b[0;32m<ipython-input-1-1445e139c2ab>\u001b[0m in \u001b[0;36m<module>\u001b[0;34m()\u001b[0m\n\u001b[1;32m      1\u001b[0m \u001b[0;32mfrom\u001b[0m \u001b[0mjobs_data\u001b[0m\u001b[0;34m.\u001b[0m\u001b[0mdb\u001b[0m\u001b[0;34m.\u001b[0m\u001b[0mschema\u001b[0m \u001b[0;32mimport\u001b[0m \u001b[0mJob\u001b[0m\u001b[0;34m,\u001b[0m \u001b[0mBase\u001b[0m\u001b[0;34m,\u001b[0m \u001b[0mengine\u001b[0m\u001b[0;34m\u001b[0m\u001b[0m\n\u001b[1;32m      2\u001b[0m \u001b[0;32mimport\u001b[0m \u001b[0mpandas\u001b[0m \u001b[0;32mas\u001b[0m \u001b[0mpd\u001b[0m\u001b[0;34m\u001b[0m\u001b[0m\n\u001b[0;32m----> 3\u001b[0;31m \u001b[0;32mimport\u001b[0m \u001b[0mspacy\u001b[0m\u001b[0;34m\u001b[0m\u001b[0m\n\u001b[0m",
      "\u001b[0;31mImportError\u001b[0m: No module named 'spacy'"
     ]
    }
   ],
   "source": [
    "from jobs_data.db.schema import Job, Base, engine\n",
    "import pandas as pd\n",
    "import spacy"
   ]
  },
  {
   "cell_type": "code",
   "execution_count": 2,
   "metadata": {
    "collapsed": false,
    "deletable": true,
    "editable": true
   },
   "outputs": [],
   "source": [
    "df = pd.read_sql(\"select justext_content from jobs.company_site  where justext_content IS NOT NULL\", engine)"
   ]
  },
  {
   "cell_type": "code",
   "execution_count": 3,
   "metadata": {
    "collapsed": false,
    "deletable": true,
    "editable": true
   },
   "outputs": [
    {
     "data": {
      "text/html": [
       "<div>\n",
       "<table border=\"1\" class=\"dataframe\">\n",
       "  <thead>\n",
       "    <tr style=\"text-align: right;\">\n",
       "      <th></th>\n",
       "      <th>justext_content</th>\n",
       "    </tr>\n",
       "  </thead>\n",
       "  <tbody>\n",
       "    <tr>\n",
       "      <th>0</th>\n",
       "      <td>In the clinic or at the point of injury: advan...</td>\n",
       "    </tr>\n",
       "    <tr>\n",
       "      <th>1</th>\n",
       "      <td></td>\n",
       "    </tr>\n",
       "    <tr>\n",
       "      <th>2</th>\n",
       "      <td>Process Improvement Capture how communication ...</td>\n",
       "    </tr>\n",
       "    <tr>\n",
       "      <th>3</th>\n",
       "      <td>It’s a new day. Your business has suffered thr...</td>\n",
       "    </tr>\n",
       "    <tr>\n",
       "      <th>4</th>\n",
       "      <td></td>\n",
       "    </tr>\n",
       "  </tbody>\n",
       "</table>\n",
       "</div>"
      ],
      "text/plain": [
       "                                     justext_content\n",
       "0  In the clinic or at the point of injury: advan...\n",
       "1                                                   \n",
       "2  Process Improvement Capture how communication ...\n",
       "3  It’s a new day. Your business has suffered thr...\n",
       "4                                                   "
      ]
     },
     "execution_count": 3,
     "metadata": {},
     "output_type": "execute_result"
    }
   ],
   "source": [
    "df.head()"
   ]
  },
  {
   "cell_type": "code",
   "execution_count": 17,
   "metadata": {
    "collapsed": false,
    "deletable": true,
    "editable": true
   },
   "outputs": [
    {
     "data": {
      "text/plain": [
       "\"In the clinic or at the point of injury: advanced cognitive assessment. Introducing the future of mobile assessment technology: EYE-SYNC® by SyncThink overcomes the limitations of traditional cognitive testing to provide an easy-to-use, rapid, objective tool for initial screening and recovery monitoring. Caution - EYE-SYNC is an investigational device, limited by United States law to investigational use. A Portable Window to the Brain Mobile, precise assessment of visual attention after a force to the head EYE-SYNC® uses high-performance, cutting-edge eye tracking technology to monitor eye movement in a handheld virtual reality environment. If your brain is out of sync after an on-field incident, SyncThink®’s technology will let you know in less than a minute. Screening and Recovery EYE-SYNC® helps you with screening in the field and assessing return to play or work in the clinic Objective Testing EYE-SYNC®’s proven, transparent metrics evaluates a subject’s eye-tracking performance stand alone or to their own baseline in a fast 60 second evaluation. Durable hardware Less than 5 pounds, EYE-SYNC® is on the scene when you are. Years of research, applied. Dr. Jam Ghajar has dedicated his career to unlocking the mysteries behind concussions. EYE-SYNC® is the culmination of years of research in the field by Dr. Ghajar and the Brain Trauma Foundation. See how EYE-SYNC® changes the way he approaches concussion. Visual Attention Pathways The brain whiplash from a force to the head impairs connections in the front of the brain. These connections are responsible for predicting what you are about to pay attention to. The result is a difficulty in predicting leading to problems in cognitive and motor activities such as athletics or classroom learning. Objective Attention Measurement Eye movement and attention share similar brain pathways. When brain connections are impaired in a concussion, variability in prediction occurs, leading to variability or jitter in visual performance. This same variability or jitter happens in thinking and movement but eye movement is the most accurate way of measurement it. State-of-the-art eye tracking goggles can measure prediction variability in less than a minute. Precision measurements allow clinicians to assess and track attention performance improvements during recovery. Test Demo Where and when you need it In the clinic or at the point of injury Cognitive assessment tools are tedious, inaccurate, or immobile. EYE-SYNC® delivers world-class clinical tools from the playing field to the battlefield. Follow-up with the same toolset in a clinical setting to determine return-to-activity evaluation. The EYE-SYNC® follows patients from the field into the clinician's office. Our reliability and precision allows the user to track performance back to recovery. Clinic Coaches and trainers need to make fast on-field decisions that might place an athlete in harm's way. The EYE-SYNC® is a mobile, objective assessment that provides clarity after an injury. Playing Field EYE-SYNC® is a functional assessment that provides real-time information to commanders on the battlefield. Spot and care for injury before it becomes a danger to the mission. Battlefield Proud partners of Client Testimonial: Stanford University Stanford Sports Medicine uses EYE-SYNC® technology currently to screen athletes for concussion and make decisions on return to play. “In my opinion, the EYE-SYNC® device has significant implications for sideline evaluation, and I can see in the future every pro, college, and high school team having one on the field.” Client Testimonial: US Army Dallas C. Hack MD, MPH\\nColonel, US Army, Retired “One of the critical gaps in assessing the sequellae of brain injury is an objective test of brain function in a form factor suitable for austere settings. Studies on eye movement after injury indicate that eye movement is a sensitive, objective indicator of an alteration in brain function that usually returns to preinjury levels over time after an injury. Clinical trials have demonstrated high sensitivity of smooth pursuit eye movement, which is assessed by the EYE-SYNC, after an external force to the head. ” How can we help you? We’re shifting the focus on concussion. We want you to be a part of it. If you’d like some more information, please reach out. We look forward to hearing from you! \""
      ]
     },
     "execution_count": 17,
     "metadata": {},
     "output_type": "execute_result"
    }
   ],
   "source": [
    "df['justext_content'][0]"
   ]
  },
  {
   "cell_type": "code",
   "execution_count": null,
   "metadata": {
    "collapsed": true,
    "deletable": true,
    "editable": true
   },
   "outputs": [],
   "source": []
  }
 ],
 "metadata": {
  "kernelspec": {
   "display_name": "Python 3",
   "language": "python",
   "name": "python3"
  },
  "language_info": {
   "codemirror_mode": {
    "name": "ipython",
    "version": 3
   },
   "file_extension": ".py",
   "mimetype": "text/x-python",
   "name": "python",
   "nbconvert_exporter": "python",
   "pygments_lexer": "ipython3",
   "version": "3.5.2"
  }
 },
 "nbformat": 4,
 "nbformat_minor": 2
}
